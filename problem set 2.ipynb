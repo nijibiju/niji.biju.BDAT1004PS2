{
 "cells": [
  {
   "cell_type": "markdown",
   "id": "c369c357",
   "metadata": {},
   "source": [
    "Question #1\n",
    " \n",
    "Consider the following Python module:\n",
    "a = 0\n",
    "def b():\n",
    " global a\n",
    " a = c(a)\n",
    "def c(a):\n",
    " return a + 2\n",
    "After importing the module into the interpreter, you execute:\n",
    ">>> b()\n",
    ">>> b()\n",
    ">>> b()\n",
    ">>> a\n",
    "?\n",
    "What value is displayed when the last expression (a) is evaluated? Explain your \n",
    "answer by indicating what happens in every executed statement."
   ]
  },
  {
   "cell_type": "markdown",
   "id": "24d29300",
   "metadata": {},
   "source": [
    "a = 0: This line sets the value of the global variable a to 0.\n",
    "\n",
    "def b() and global a: This declares that the function b should use the global variable a.\n",
    "\n",
    "a = c(a): Within the function b, the function c is called with the current value of a (which is 0). Because the result of c(a) equals 0 + 2, an is changed to 2.\n",
    "\n",
    "def c(a): This defines the function c, which accepts an argument a.\n",
    "\n",
    "return a + 2: The function c returns the value of a.\n",
    "\n",
    "Let us now carry out the following statements:\n",
    "\n",
    "b(): It executes the function b. Inside b, it calls c(a) to set the global variable a to 2 (c(0) = 0 + 2).\n",
    "\n",
    "b(): Then it calls b once more. Inside b, it calls c(a) with the present value of a (which is now 2). As a result, c(2) returns 2 + 2, updating a to 4.\n",
    "\n",
    "b(): Again repeats the call to b. Inside b, it calls c(a) with the current value of a (which is now 4). As a result, c(4) returns 4 + 2, updating a to 6.\n",
    "\n",
    "\n",
    "Therefore, the final value displayed for 'a' is 6.\n"
   ]
  },
  {
   "cell_type": "markdown",
   "id": "f6e0cd9d",
   "metadata": {},
   "source": [
    "Question #2\n",
    "\n",
    "Function fileLength(), given to you, takes the name of a file as input and returns \n",
    "the length of the file:\n",
    ">>> fileLength('midterm.py')\n",
    "284\n",
    ">>> fileLength('idterm.py')\n",
    "Traceback (most recent call last):\n",
    "File \"<pyshell#34>\", line 1, in <module>\n",
    " fileLength('idterm.py')\n",
    "File \"/Users/me/midterm.py\", line 3, in fileLength\n",
    " infile = open(filename)\n",
    "FileNotFoundError: [Errno 2] No such file or directory: \n",
    "'idterm.py'\n",
    "As shown above, if the file cannot be found by the interpreter or if it cannot be read \n",
    "as a text file, an exception will be raised. Modify function fileLength() so that a \n",
    "friendly message is printed instead:\n",
    ">>> fileLength('midterm.py')\n",
    "358\n",
    ">>> fileLength('idterm.py')\n",
    "File idterm.py not found."
   ]
  },
  {
   "cell_type": "code",
   "execution_count": 19,
   "id": "d6a60ada",
   "metadata": {},
   "outputs": [
    {
     "name": "stdout",
     "output_type": "stream",
     "text": [
      "File midterm.py not found.\n",
      "File idterm.py not found.\n"
     ]
    }
   ],
   "source": [
    "def fileLength(filename):\n",
    "    try:\n",
    "        with open(filename, 'r') as infile:\n",
    "            length = 0\n",
    "            for line in infile:\n",
    "                length += len(line)\n",
    "            return length\n",
    "    except FileNotFoundError:\n",
    "        print(f\"File {filename} not found.\")\n",
    "        return None\n",
    "    filelength(r\"C:\\Users\\nijib\\Downloads\\Filelength.txt\")\n",
    "\n",
    "# Test the modified function\n",
    "file_length = fileLength('midterm.py')\n",
    "if file_length is not None:\n",
    "    print(file_length)\n",
    "\n",
    "file_length = fileLength('idterm.py')\n",
    "if file_length is not None:\n",
    "    print(file_length)\n"
   ]
  },
  {
   "cell_type": "markdown",
   "id": "701e7736",
   "metadata": {},
   "source": [
    "Question #3\n",
    "\n",
    "Write a class named Marsupial that can be used as shown below:\n",
    ">>> m = Marsupial()\n",
    ">>> m.put_in_pouch('doll')\n",
    ">>> m.put_in_pouch('firetruck')\n",
    ">>> m.put_in_pouch('kitten')\n",
    ">>> m.pouch_contents()\n",
    "['doll', 'firetruck', 'kitten']\n",
    "\n",
    "Now write a class named Kangaroo as a subclass of Marsupial that inherits all the \n",
    "attributes of Marsupial and also:\n",
    "a. extends the Marsupial __init__ constructor to take, as input, the \n",
    "coordinates x and y of the Kangaroo object,\n",
    "b. supports method jump that takes number values dx and dy as input and \n",
    "moves the kangaroo by dx units along the x-axis and by dy units along the y axis, and\n",
    "c. overloads the __str__ operator so it behaves as shown below.\n",
    ">>> k = Kangaroo(0,0)\n",
    ">>> print(k)\n",
    "I am a Kangaroo located at coordinates (0,0)\n",
    ">>> k.put_in_pouch('doll')\n",
    ">>> k.put_in_pouch('firetruck')\n",
    ">>> k.put_in_pouch('kitten')\n",
    ">>> k.pouch_contents()\n",
    "['doll', 'firetruck', 'kitten']\n",
    ">>> k.jump(1,0)\n",
    ">>> k.jump(1,0)\n",
    ">>> k.jump(1,0)\n",
    ">>> print(k)\n",
    "I am a Kangaroo located at coordinates (3,0)"
   ]
  },
  {
   "cell_type": "code",
   "execution_count": 43,
   "id": "5d6d1e7d",
   "metadata": {},
   "outputs": [
    {
     "name": "stdout",
     "output_type": "stream",
     "text": [
      "['doll', 'firetruck', 'kitten']\n",
      "I am a Kangaroo located at coordinates (0,0)\n",
      "['doll', 'firetruck', 'kitten']\n",
      "I am a Kangaroo located at coordinates (3,0)\n"
     ]
    }
   ],
   "source": [
    "class Marsupial:\n",
    "\n",
    "    def __init__(self):\n",
    "\n",
    "        self.pouch = []\n",
    " \n",
    "    def put_in_pouch(self, item):\n",
    "\n",
    "        self.pouch.append(item)\n",
    " \n",
    "    def pouch_contents(self):\n",
    "\n",
    "        return self.pouch\n",
    " \n",
    "class Kangaroo(Marsupial):\n",
    "\n",
    "    def __init__(self, x, y):\n",
    "\n",
    "        super().__init__()\n",
    "\n",
    "        self.x = x\n",
    "\n",
    "        self.y = y\n",
    " \n",
    "    def jump(self, dx, dy):\n",
    "\n",
    "        self.x += dx\n",
    "\n",
    "        self.y += dy\n",
    " \n",
    "    def __str__(self):\n",
    "\n",
    "        return f\"I am a Kangaroo located at coordinates ({self.x},{self.y})\"\n",
    " \n",
    "\n",
    "m = Marsupial()\n",
    "\n",
    "m.put_in_pouch('doll')\n",
    "\n",
    "m.put_in_pouch('firetruck')\n",
    "\n",
    "m.put_in_pouch('kitten')\n",
    "\n",
    "print(m.pouch_contents())  # ['doll', 'firetruck', 'kitten']\n",
    " \n",
    "k = Kangaroo(0, 0)\n",
    "\n",
    "print(k)  # I am a Kangaroo located at coordinates (0,0)\n",
    "\n",
    "k.put_in_pouch('doll')\n",
    "\n",
    "k.put_in_pouch('firetruck')\n",
    "\n",
    "k.put_in_pouch('kitten')\n",
    "\n",
    "print(k.pouch_contents())  #['doll', 'firetruck', 'kitten']\n",
    "\n",
    "k.jump(1, 0)\n",
    "\n",
    "k.jump(1, 0)\n",
    "\n",
    "k.jump(1, 0)\n",
    "\n",
    "print(k)  #  I am a Kangaroo located at coordinates (3,0)\n"
   ]
  },
  {
   "cell_type": "markdown",
   "id": "ab26e78a",
   "metadata": {},
   "source": [
    "Question #4\n",
    "\n",
    "Write function collatz() that takes a positive integer x as input and prints the \n",
    "Collatz sequence starting at x. A Collatz sequence is obtained by repeatedly applying \n",
    "this rule to the previous number x in the sequence:\n",
    "x = {\n",
    "𝑥/2 𝑖𝑓 𝑥 𝑖𝑠 𝑒𝑣𝑒𝑛\n",
    "3𝑥 + 1 𝑖𝑓 𝑥 𝑖𝑠 𝑜𝑑𝑑\n",
    "Your function should stop when the sequence gets to number 1. Your \n",
    "implementation must be recursive, without any loops.\n"
   ]
  },
  {
   "cell_type": "code",
   "execution_count": 21,
   "id": "6269c992",
   "metadata": {},
   "outputs": [
    {
     "name": "stdout",
     "output_type": "stream",
     "text": [
      "1\n",
      "10 5 16 8 4 2 1\n"
     ]
    }
   ],
   "source": [
    "def collatz(x):\n",
    "    while x != 1:\n",
    "        print(x, end=' ')\n",
    "        if x % 2 == 0:\n",
    "            x = x // 2\n",
    "        else:\n",
    "            x = (3 * x + 1)\n",
    "    print(1) #print the final 1 in the sequence\n",
    "# Test the collatz function with a positive integer\n",
    "collatz(1)\n",
    "collatz(10)"
   ]
  },
  {
   "cell_type": "markdown",
   "id": "0c289585",
   "metadata": {},
   "source": [
    "Question #5\n",
    "\n",
    "Write a recursive method binary() that takes a non-negative \n",
    "integer n and prints the binary representation of integer n.\n",
    ">>> binary(0)\n",
    "0\n",
    ">>> binary(1)\n",
    "1\n",
    ">>> binary(3)\n",
    "11\n",
    ">>> binary(9)\n",
    "1001"
   ]
  },
  {
   "cell_type": "code",
   "execution_count": 43,
   "id": "04e16087",
   "metadata": {},
   "outputs": [
    {
     "name": "stdout",
     "output_type": "stream",
     "text": [
      "0\n",
      "1\n",
      "11\n",
      "1001\n"
     ]
    }
   ],
   "source": [
    "def binary(n):\n",
    "    if n == 0:\n",
    "        print(0, end='')\n",
    "    elif n == 1:\n",
    "        print(1, end='')\n",
    "    else:\n",
    "        binary(n // 2)\n",
    "        print(n % 2, end='')\n",
    "\n",
    "# Testing the function\n",
    "binary(0)\n",
    "print()  # For newline\n",
    "binary(1)\n",
    "print()  # For newline\n",
    "binary(3)\n",
    "print()  # For newline\n",
    "binary(9)\n",
    "print()  # For newline"
   ]
  },
  {
   "cell_type": "markdown",
   "id": "a368512b",
   "metadata": {},
   "source": [
    "Question #8\n",
    "\n",
    "\n",
    "Write SQL queries on the below database table that return: \n",
    "a) All the temperature data.\n",
    "b) All the cities, but without repetition.\n",
    "c) All the records for India.\n",
    "d) All the Fall records\n",
    "e) The city, country, and season for which the average rainfall is between 200 \n",
    "and 400 millimeters.\n",
    "f) The city and country for which the average Fall temperature is above 20 \n",
    "degrees, in increasing temperature order.\n",
    "g) The total annual rainfall for Cairo.\n",
    "h) The total rainfall for each season."
   ]
  },
  {
   "cell_type": "code",
   "execution_count": 7,
   "id": "4bcede4b",
   "metadata": {},
   "outputs": [
    {
     "name": "stdout",
     "output_type": "stream",
     "text": [
      "a) All Temperature Data: [(24.8,), (28.4,), (27.9,), (27.6,), (4.2,), (8.3,), (15.7,), (10.4,), (13.6,), (20.7,), (27.7,), (22.2,)]\n",
      "b) All Unique Cities: [('Mumbai',), ('London',), ('Cairo',)]\n",
      "c) Records for India: [('Mumbai', 'India', 'Winter', 24.8, 5.9), ('Mumbai', 'India', 'Spring', 28.4, 16.2), ('Mumbai', 'India', 'Summer', 27.9, 1549.4), ('Mumbai', 'India', 'Fall', 27.6, 346.0)]\n",
      "d) Fall Records: [('Mumbai', 'India', 'Fall', 27.6, 346.0), ('London', 'United Kingdom', 'Fall', 10.4, 218.5), ('Cairo', 'Egypt', 'Fall', 22.2, 4.5)]\n",
      "e) Average Rainfall between 200 and 400: [('London', 'United Kingdom', 'Fall'), ('London', 'United Kingdom', 'Winter'), ('Mumbai', 'India', 'Fall')]\n",
      "f) High-Temperature Cities in Fall: [('Cairo', 'Egypt'), ('Mumbai', 'India')]\n",
      "g) Total Rainfall for Cairo: 27.6\n",
      "h) Total Rainfall by Season: [('Fall', 569.0), ('Spring', 192.29999999999998), ('Summer', 1706.5), ('Winter', 230.1)]\n"
     ]
    }
   ],
   "source": [
    "import sqlite3\n",
    "\n",
    "conn = sqlite3.connect('niji_biju.db')\n",
    "cursor = conn.cursor()\n",
    "\n",
    "cursor.execute('''\n",
    "    CREATE TABLE weather \n",
    "    (City TEXT, Country TEXT, Season TEXT, \"Temperature(C)\" FLOAT, \"Rainfall(mm)\" FLOAT)\n",
    "''')\n",
    "\n",
    "weather_data = [\n",
    "    ('Mumbai', 'India', 'Winter', 24.8, 5.9),\n",
    "    ('Mumbai', 'India', 'Spring', 28.4, 16.2),\n",
    "    ('Mumbai', 'India', 'Summer', 27.9, 1549.4),\n",
    "    ('Mumbai', 'India', 'Fall', 27.6, 346.0),\n",
    "    ('London', 'United Kingdom', 'Winter', 4.2, 207.7),\n",
    "    ('London', 'United Kingdom', 'Spring', 8.3, 169.6),\n",
    "    ('London', 'United Kingdom', 'Summer', 15.7, 157.0),\n",
    "    ('London', 'United Kingdom', 'Fall', 10.4, 218.5),\n",
    "    ('Cairo', 'Egypt', 'Winter', 13.6, 16.5),\n",
    "    ('Cairo', 'Egypt', 'Spring', 20.7, 6.5),\n",
    "    ('Cairo', 'Egypt', 'Summer', 27.7, 0.1),\n",
    "    ('Cairo', 'Egypt', 'Fall', 22.2, 4.5)\n",
    "]\n",
    "\n",
    "cursor.executemany('''\n",
    "    INSERT INTO weather (City, Country, Season, \"Temperature(C)\", \"Rainfall(mm)\")\n",
    "    VALUES (?, ?, ?, ?, ?)\n",
    "''', weather_data)\n",
    "\n",
    "# a) All the temperature data.\n",
    "cursor.execute('SELECT \"Temperature(C)\" FROM weather')\n",
    "temperature_data = cursor.fetchall()\n",
    "\n",
    "#b) All the cities, but without repetition.\n",
    "cursor.execute('SELECT DISTINCT City FROM weather')\n",
    "unique_cities = cursor.fetchall()\n",
    "\n",
    "#c) All the records for India.\n",
    "cursor.execute('SELECT * FROM weather WHERE Country = \"India\"')\n",
    "india_records = cursor.fetchall()\n",
    "\n",
    "#d) All the Fall records\n",
    "cursor.execute('SELECT * FROM weather WHERE Season = \"Fall\"')\n",
    "fall_records = cursor.fetchall()\n",
    "\n",
    "#e) The city, country, and season for which the average rainfall is between 200 and 400 millimeters.\n",
    "cursor.execute('''\n",
    "    SELECT City, Country, Season\n",
    "    FROM weather\n",
    "    GROUP BY City, Country, Season\n",
    "    HAVING AVG(\"Rainfall(mm)\") BETWEEN 200 AND 400\n",
    "''')\n",
    "rainfall_between_200_400 = cursor.fetchall()\n",
    "\n",
    "#f) The city and country for which the average Fall temperature is above 20 degrees, in increasing temperature order.\n",
    "cursor.execute('''\n",
    "    SELECT City, Country\n",
    "    FROM weather\n",
    "    WHERE Season = \"Fall\"\n",
    "    GROUP BY City, Country\n",
    "    HAVING AVG(\"Temperature(C)\") > 20\n",
    "    ORDER BY AVG(\"Temperature(C)\") ASC\n",
    "''')\n",
    "high_temp_cities_in_fall = cursor.fetchall()\n",
    "\n",
    "#g) The total annual rainfall for Cairo.\n",
    "cursor.execute('SELECT SUM(\"Rainfall(mm)\") AS \"Total Rainfall\" FROM weather WHERE City = \"Cairo\"')\n",
    "cairo_total_rainfall = cursor.fetchone()[0]\n",
    "\n",
    "#h) The total rainfall for each season.\n",
    "cursor.execute('SELECT Season, SUM(\"Rainfall(mm)\") AS \"Total Rainfall\" FROM weather GROUP BY Season')\n",
    "total_rainfall_by_season = cursor.fetchall()\n",
    "\n",
    "# Print the results\n",
    "print(\"a) All Temperature Data:\", temperature_data)\n",
    "print(\"b) All Unique Cities:\", unique_cities)\n",
    "print(\"c) Records for India:\", india_records)\n",
    "print(\"d) Fall Records:\", fall_records)\n",
    "print(\"e) Average Rainfall between 200 and 400:\", rainfall_between_200_400)\n",
    "print(\"f) High-Temperature Cities in Fall:\", high_temp_cities_in_fall)\n",
    "print(\"g) Total Rainfall for Cairo:\", cairo_total_rainfall)\n",
    "print(\"h) Total Rainfall by Season:\", total_rainfall_by_season)\n",
    "\n",
    "\n",
    "conn.commit()\n",
    "conn.close()\n",
    "\n"
   ]
  },
  {
   "cell_type": "markdown",
   "id": "6d6b93fc",
   "metadata": {},
   "source": [
    "Question #9\n",
    "\n",
    ". Suppose list words is defined as follows:\n",
    ">>> words = ['The', 'quick', 'brown', 'fox', 'jumps', 'over', \n",
    "'the', 'lazy', 'dog']\n",
    "Write list comprehension expressions that use list words and generate the following \n",
    "lists:\n",
    "a) ['THE', 'QUICK', 'BROWN', 'FOX', 'JUMPS', 'OVER', 'THE', \n",
    "'LAZY', 'DOG']\n",
    "b) ['the', 'quick', 'brown', 'fox', 'jumps', 'over', 'the', \n",
    "'lazy', 'dog']\n",
    "c) [3, 5, 5, 3, 5, 4, 3, 4, 3] (the list of lengths of words in list \n",
    "words).\n",
    "d) [['THE', 'the', 3], ['QUICK', 'quick', 5], ['BROWN', \n",
    "'brown', 5], ['FOX', 'fox', 3], ['JUMPS', 'jumps', 5], \n",
    "['OVER', 'over', 4], ['THE', 'the', 3], ['LAZY', 'lazy', \n",
    "4], ['DOG', 'dog', 3]] (the list containing a list for every word of list \n",
    "words, where each list contains the word in uppercase and lowercase and the \n",
    "length of the word.)\n",
    "e) ['The', 'quick', 'brown', 'fox', 'jumps', 'over', 'the', \n",
    "'lazy', 'dog'] (the list of words in list words containing 4 or more \n",
    "characters.)"
   ]
  },
  {
   "cell_type": "code",
   "execution_count": 49,
   "id": "0e968c47",
   "metadata": {},
   "outputs": [
    {
     "name": "stdout",
     "output_type": "stream",
     "text": [
      "['THE', 'QUICK', 'BROWN', 'FOX', 'JUMPS', 'OVER', 'THE', 'LAZY', 'DOG']\n"
     ]
    }
   ],
   "source": [
    "#a)\n",
    "\n",
    "words =['The', 'quick', 'brown', 'fox', 'jumps', 'over', 'the', 'lazy', 'dog']\n",
    "uppercase_words = [word.upper() for word in words]\n",
    "print(uppercase_words)\n"
   ]
  },
  {
   "cell_type": "code",
   "execution_count": 23,
   "id": "b64dbc4d",
   "metadata": {},
   "outputs": [
    {
     "name": "stdout",
     "output_type": "stream",
     "text": [
      "['the', 'quick', 'brown', 'fox', 'jumps', 'over', 'the', 'lazy', 'dog']\n"
     ]
    }
   ],
   "source": [
    "#b)\n",
    "words =['The', 'quick', 'brown', 'fox', 'jumps', 'over', 'the', 'lazy', 'dog']\n",
    "lowercase_words = [word.lower() for word in words]\n",
    "print(lowercase_words)\n"
   ]
  },
  {
   "cell_type": "code",
   "execution_count": 51,
   "id": "be34651b",
   "metadata": {},
   "outputs": [
    {
     "name": "stdout",
     "output_type": "stream",
     "text": [
      "[3, 5, 5, 3, 5, 4, 3, 4, 3]\n"
     ]
    }
   ],
   "source": [
    "#c)\n",
    "\n",
    "words =['The', 'quick', 'brown', 'fox', 'jumps', 'over', 'the', 'lazy', 'dog']\n",
    "word_lengths = [len(word) for word in words]\n",
    "print(word_lengths)"
   ]
  },
  {
   "cell_type": "code",
   "execution_count": 52,
   "id": "49e0c9d9",
   "metadata": {},
   "outputs": [
    {
     "name": "stdout",
     "output_type": "stream",
     "text": [
      "[['THE', 'the', 3], ['QUICK', 'quick', 5], ['BROWN', 'brown', 5], ['FOX', 'fox', 3], ['JUMPS', 'jumps', 5], ['OVER', 'over', 4], ['THE', 'the', 3], ['LAZY', 'lazy', 4], ['DOG', 'dog', 3]]\n"
     ]
    }
   ],
   "source": [
    "#d)\n",
    "\n",
    "words =['The', 'quick', 'brown', 'fox', 'jumps', 'over', 'the', 'lazy', 'dog']\n",
    "word_info = [[word.upper(), word.lower(), len(word)] for word in words]\n",
    "print(word_info)"
   ]
  },
  {
   "cell_type": "code",
   "execution_count": 55,
   "id": "9dbd0e27",
   "metadata": {},
   "outputs": [
    {
     "name": "stdout",
     "output_type": "stream",
     "text": [
      "['quick', 'brown', 'jumps', 'over', 'lazy']\n"
     ]
    }
   ],
   "source": [
    "#e)\n",
    "\n",
    "words =['The', 'quick', 'brown', 'fox', 'jumps', 'over', 'the', 'lazy', 'dog']\n",
    "long_words = [word for word in words if len(word) >= 4]\n",
    "print(long_words)"
   ]
  }
 ],
 "metadata": {
  "kernelspec": {
   "display_name": "Python 3 (ipykernel)",
   "language": "python",
   "name": "python3"
  },
  "language_info": {
   "codemirror_mode": {
    "name": "ipython",
    "version": 3
   },
   "file_extension": ".py",
   "mimetype": "text/x-python",
   "name": "python",
   "nbconvert_exporter": "python",
   "pygments_lexer": "ipython3",
   "version": "3.11.5"
  }
 },
 "nbformat": 4,
 "nbformat_minor": 5
}
